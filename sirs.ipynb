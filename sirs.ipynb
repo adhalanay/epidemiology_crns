{
 "cells": [
  {
   "cell_type": "code",
   "execution_count": 1,
   "id": "7e2e7dee-6d0d-4173-826b-7e05ad3f5bee",
   "metadata": {},
   "outputs": [
    {
     "name": "stdout",
     "output_type": "stream",
     "text": [
      "\n",
      "Welcome to Nemo version 0.45.7\n",
      "\n",
      "Nemo comes with absolutely no warranty whatsoever\n",
      "  ___   ____   ____    _    ____\n",
      " / _ \\ / ___| / ___|  / \\  |  _ \\   |  Combining ANTIC, GAP, Polymake, Singular\n",
      "| | | |\\___ \\| |     / _ \\ | |_) |  |  Type \"?Oscar\" for more information\n",
      "| |_| | ___) | |___ / ___ \\|  _ <   |  Manual: https://docs.oscar-system.org\n",
      " \\___/ |____/ \\____/_/   \\_\\_| \\_\\  |  Version 1.1.1\n",
      "\r"
     ]
    }
   ],
   "source": [
    "using Catalyst\n",
    "using DifferentialEquations\n",
    "using WGLMakie\n",
    "using Latexify\n",
    "using Symbolics\n",
    "using Nemo\n",
    "using Oscar"
   ]
  },
  {
   "cell_type": "code",
   "execution_count": 2,
   "id": "58b47f3b-4159-4ccf-890a-2895ddfcf278",
   "metadata": {},
   "outputs": [
    {
     "data": {
      "text/latex": [
       "$$ \\begin{align*}\n",
       "\\require{mhchem} \n",
       "\\varnothing &\\xrightarrow{k1} \\mathrm{S} \\\\\n",
       "\\mathrm{S} + \\mathrm{I} &\\xrightarrow{k2} 2 \\mathrm{I} \\\\\n",
       "\\mathrm{I} &\\xrightarrow{k3} \\mathrm{R} \\\\\n",
       "\\mathrm{R} &\\xrightleftharpoons[k5]{k4} \\mathrm{S} \\\\\n",
       "\\mathrm{S} &\\xrightarrow{k6} \\varnothing \\\\\n",
       "\\mathrm{I} &\\xrightarrow{k7} \\varnothing \\\\\n",
       "\\mathrm{R} &\\xrightarrow{k8} \\varnothing  \n",
       " \\end{align*}\n",
       " $$"
      ],
      "text/plain": [
       "\u001b[0m\u001b[1mModel ##ReactionSystem#236\u001b[22m\n",
       "\u001b[0m\u001b[1mUnknowns (3):\u001b[22m\n",
       "  S(t)\n",
       "  I(t)\n",
       "  R(t)\n",
       "\u001b[0m\u001b[1mParameters (8):\u001b[22m\n",
       "  k1\n",
       "  k2\n",
       "  k3\n",
       "  k4\n",
       "  k5\n",
       "  k6\n",
       "⋮"
      ]
     },
     "execution_count": 2,
     "metadata": {},
     "output_type": "execute_result"
    }
   ],
   "source": [
    "rn = @reaction_network begin\n",
    "    k1, 0 --> S\n",
    "    k2, S+I --> 2I\n",
    "    k3, I --> R\n",
    "    k4, R --> S\n",
    "    k5, S --> R\n",
    "    k6, S --> 0\n",
    "    k7, I --> 0\n",
    "    k8, R --> 0\n",
    "end"
   ]
  },
  {
   "cell_type": "code",
   "execution_count": 3,
   "id": "391fa0b1-4706-484a-8ad5-817914fcf7f4",
   "metadata": {},
   "outputs": [
    {
     "data": {
      "text/latex": [
       "$$ \\begin{align}\n",
       "\\frac{\\mathrm{d} S\\left( t \\right)}{\\mathrm{d}t} &= k1 + k4 R\\left( t \\right) - k5 S\\left( t \\right) - k6 S\\left( t \\right) - k2 S\\left( t \\right) I\\left( t \\right) \\\\\n",
       "\\frac{\\mathrm{d} I\\left( t \\right)}{\\mathrm{d}t} &=  - k3 I\\left( t \\right) - k7 I\\left( t \\right) + k2 S\\left( t \\right) I\\left( t \\right) \\\\\n",
       "\\frac{\\mathrm{d} R\\left( t \\right)}{\\mathrm{d}t} &= k3 I\\left( t \\right) - k4 R\\left( t \\right) + k5 S\\left( t \\right) - k8 R\\left( t \\right)\n",
       "\\end{align}\n",
       " $$"
      ],
      "text/plain": [
       "\u001b[0m\u001b[1mModel ##ReactionSystem#236 with 3 \u001b[22m\u001b[0m\u001b[1mequations\u001b[22m\n",
       "\u001b[0m\u001b[1mUnknowns (3):\u001b[22m\n",
       "  S(t)\n",
       "  I(t)\n",
       "  R(t)\n",
       "\u001b[0m\u001b[1mParameters (8):\u001b[22m\n",
       "  k1\n",
       "  k2\n",
       "  k3\n",
       "  k4\n",
       "  k5\n",
       "  k6\n",
       "⋮"
      ]
     },
     "execution_count": 3,
     "metadata": {},
     "output_type": "execute_result"
    }
   ],
   "source": [
    "odesys=convert(ODESystem,rn) # the corresponding system of ODEs"
   ]
  },
  {
   "cell_type": "code",
   "execution_count": 5,
   "id": "9bcca06d-0abc-40e1-b1d2-8512156652aa",
   "metadata": {},
   "outputs": [
    {
     "data": {
      "text/plain": [
       "1"
      ]
     },
     "execution_count": 5,
     "metadata": {},
     "output_type": "execute_result"
    }
   ],
   "source": [
    "deficiency(rn)"
   ]
  },
  {
   "cell_type": "code",
   "execution_count": 3,
   "id": "448cd71e-735f-4813-842d-28b0ca693325",
   "metadata": {},
   "outputs": [
    {
     "data": {
      "text/latex": [
       "$$ \\begin{align}\n",
       "0 &= k1 + k4 R\\left( t \\right) - k5 S\\left( t \\right) - k6 S\\left( t \\right) - k2 S\\left( t \\right) I\\left( t \\right) \\\\\n",
       "0 &=  - k3 I\\left( t \\right) - k7 I\\left( t \\right) + k2 S\\left( t \\right) I\\left( t \\right) \\\\\n",
       "0 &= k3 I\\left( t \\right) - k4 R\\left( t \\right) + k5 S\\left( t \\right) - k8 R\\left( t \\right)\n",
       "\\end{align}\n",
       " $$"
      ],
      "text/plain": [
       "\u001b[0m\u001b[1mModel ##ReactionSystem#236 with 3 \u001b[22m\u001b[0m\u001b[1mequations\u001b[22m\n",
       "\u001b[0m\u001b[1mUnknowns (3):\u001b[22m\n",
       "  S(t)\n",
       "  I(t)\n",
       "  R(t)\n",
       "\u001b[0m\u001b[1mParameters (8):\u001b[22m\n",
       "  k1\n",
       "  k2\n",
       "  k3\n",
       "  k4\n",
       "  k5\n",
       "  k6\n",
       "⋮"
      ]
     },
     "execution_count": 3,
     "metadata": {},
     "output_type": "execute_result"
    }
   ],
   "source": [
    "nsys = convert(NonlinearSystem, rn)"
   ]
  },
  {
   "cell_type": "code",
   "execution_count": 4,
   "id": "ce1852c4-38d4-429a-afeb-195dd2c2729e",
   "metadata": {},
   "outputs": [
    {
     "name": "stderr",
     "output_type": "stream",
     "text": [
      "WARNING: both Symbolics and ModelingToolkit export \"infimum\"; uses of it in module Catalyst must be qualified\n",
      "WARNING: both Symbolics and ModelingToolkit export \"supremum\"; uses of it in module Catalyst must be qualified\n"
     ]
    },
    {
     "data": {
      "image/svg+xml": [
       "<?xml version=\"1.0\" encoding=\"UTF-8\" standalone=\"no\"?>\n",
       "<!DOCTYPE svg PUBLIC \"-//W3C//DTD SVG 1.1//EN\"\n",
       " \"http://www.w3.org/Graphics/SVG/1.1/DTD/svg11.dtd\">\n",
       "<!-- Generated by graphviz version 12.1.2 (0)\n",
       " -->\n",
       "<!-- Title: G Pages: 1 -->\n",
       "<svg width=\"305pt\" height=\"169pt\"\n",
       " viewBox=\"0.00 0.00 304.70 169.48\" xmlns=\"http://www.w3.org/2000/svg\" xmlns:xlink=\"http://www.w3.org/1999/xlink\">\n",
       "<g id=\"graph0\" class=\"graph\" transform=\"scale(1 1) rotate(0) translate(4 165.48)\">\n",
       "<title>G</title>\n",
       "<polygon fill=\"white\" stroke=\"none\" points=\"-4,4 -4,-165.48 300.7,-165.48 300.7,4 -4,4\"/>\n",
       "<!-- ∅ -->\n",
       "<g id=\"node1\" class=\"node\">\n",
       "<title>∅</title>\n",
       "<ellipse fill=\"#6c9ac3\" stroke=\"#6c9ac3\" cx=\"130.17\" cy=\"-67\" rx=\"19.24\" ry=\"19.24\"/>\n",
       "<text text-anchor=\"middle\" x=\"130.17\" y=\"-60.83\" font-family=\"Times,serif\" font-size=\"14.00\">∅</text>\n",
       "</g>\n",
       "<!-- S -->\n",
       "<g id=\"node2\" class=\"node\">\n",
       "<title>S</title>\n",
       "<ellipse fill=\"#6c9ac3\" stroke=\"#6c9ac3\" cx=\"205.46\" cy=\"-86\" rx=\"18.06\" ry=\"18.06\"/>\n",
       "<text text-anchor=\"middle\" x=\"205.46\" y=\"-81.33\" font-family=\"Times,serif\" font-size=\"14.00\">S</text>\n",
       "</g>\n",
       "<!-- ∅&#45;&gt;S -->\n",
       "<g id=\"edge1\" class=\"edge\">\n",
       "<title>∅&#45;&gt;S</title>\n",
       "<path fill=\"none\" stroke=\"black\" d=\"M149.67,-65.84C158.57,-67.3 169.37,-69.93 179.03,-72.95\"/>\n",
       "<polygon fill=\"black\" stroke=\"black\" points=\"177.63,-76.17 188.23,-76.12 179.92,-69.55 177.63,-76.17\"/>\n",
       "</g>\n",
       "<!-- S&#45;&gt;∅ -->\n",
       "<g id=\"edge6\" class=\"edge\">\n",
       "<title>S&#45;&gt;∅</title>\n",
       "<path fill=\"none\" stroke=\"black\" d=\"M187.05,-87.33C178.33,-85.98 167.58,-83.42 157.85,-80.44\"/>\n",
       "<polygon fill=\"black\" stroke=\"black\" points=\"159.1,-77.17 148.51,-77.29 156.86,-83.8 159.1,-77.17\"/>\n",
       "</g>\n",
       "<!-- R -->\n",
       "<g id=\"node6\" class=\"node\">\n",
       "<title>R</title>\n",
       "<ellipse fill=\"#6c9ac3\" stroke=\"#6c9ac3\" cx=\"278.11\" cy=\"-63\" rx=\"18.59\" ry=\"18.59\"/>\n",
       "<text text-anchor=\"middle\" x=\"278.11\" y=\"-58.33\" font-family=\"Times,serif\" font-size=\"14.00\">R</text>\n",
       "</g>\n",
       "<!-- S&#45;&gt;R -->\n",
       "<g id=\"edge5\" class=\"edge\">\n",
       "<title>S&#45;&gt;R</title>\n",
       "<path fill=\"none\" stroke=\"black\" d=\"M220.75,-75.8C228.61,-72.21 238.64,-68.58 248.06,-65.8\"/>\n",
       "<polygon fill=\"black\" stroke=\"black\" points=\"248.82,-69.22 257.6,-63.29 247.03,-62.45 248.82,-69.22\"/>\n",
       "</g>\n",
       "<!-- S + I -->\n",
       "<g id=\"node3\" class=\"node\">\n",
       "<title>S + I</title>\n",
       "<ellipse fill=\"#6c9ac3\" stroke=\"#6c9ac3\" cx=\"36.48\" cy=\"-125\" rx=\"36.48\" ry=\"36.48\"/>\n",
       "<text text-anchor=\"middle\" x=\"36.48\" y=\"-120.33\" font-family=\"Times,serif\" font-size=\"14.00\">S + I</text>\n",
       "</g>\n",
       "<!-- 2I -->\n",
       "<g id=\"node4\" class=\"node\">\n",
       "<title>2I</title>\n",
       "<ellipse fill=\"#6c9ac3\" stroke=\"#6c9ac3\" cx=\"130.17\" cy=\"-125\" rx=\"21.22\" ry=\"21.22\"/>\n",
       "<text text-anchor=\"middle\" x=\"130.17\" y=\"-120.33\" font-family=\"Times,serif\" font-size=\"14.00\">2I</text>\n",
       "</g>\n",
       "<!-- S + I&#45;&gt;2I -->\n",
       "<g id=\"edge2\" class=\"edge\">\n",
       "<title>S + I&#45;&gt;2I</title>\n",
       "<path fill=\"none\" stroke=\"black\" d=\"M73.19,-125C81.05,-125 89.32,-125 97.02,-125\"/>\n",
       "<polygon fill=\"black\" stroke=\"black\" points=\"97,-128.5 107,-125 97,-121.5 97,-128.5\"/>\n",
       "</g>\n",
       "<!-- I -->\n",
       "<g id=\"node5\" class=\"node\">\n",
       "<title>I</title>\n",
       "<ellipse fill=\"#6c9ac3\" stroke=\"#6c9ac3\" cx=\"36.48\" cy=\"-18\" rx=\"18\" ry=\"18\"/>\n",
       "<text text-anchor=\"middle\" x=\"36.48\" y=\"-13.32\" font-family=\"Times,serif\" font-size=\"14.00\">I</text>\n",
       "</g>\n",
       "<!-- I&#45;&gt;∅ -->\n",
       "<g id=\"edge7\" class=\"edge\">\n",
       "<title>I&#45;&gt;∅</title>\n",
       "<path fill=\"none\" stroke=\"black\" d=\"M52.62,-26.09C66.22,-33.36 86.5,-44.2 102.77,-52.89\"/>\n",
       "<polygon fill=\"black\" stroke=\"black\" points=\"100.97,-55.9 111.44,-57.52 104.27,-49.72 100.97,-55.9\"/>\n",
       "</g>\n",
       "<!-- I&#45;&gt;R -->\n",
       "<g id=\"edge3\" class=\"edge\">\n",
       "<title>I&#45;&gt;R</title>\n",
       "<path fill=\"none\" stroke=\"black\" d=\"M54.47,-21.1C76.73,-25.16 117,-32.55 151.39,-39 184.76,-45.26 223.09,-52.6 248.56,-57.5\"/>\n",
       "<polygon fill=\"black\" stroke=\"black\" points=\"247.66,-60.89 258.14,-59.34 248.98,-54.01 247.66,-60.89\"/>\n",
       "</g>\n",
       "<!-- R&#45;&gt;∅ -->\n",
       "<g id=\"edge8\" class=\"edge\">\n",
       "<title>R&#45;&gt;∅</title>\n",
       "<path fill=\"none\" stroke=\"black\" d=\"M259.26,-61.33C248.85,-60.44 235.45,-59.44 223.52,-59 207.47,-58.4 203.41,-57.87 187.39,-59 178.77,-59.61 169.46,-60.74 160.94,-61.96\"/>\n",
       "<polygon fill=\"black\" stroke=\"black\" points=\"160.44,-58.5 151.08,-63.48 161.5,-65.42 160.44,-58.5\"/>\n",
       "</g>\n",
       "<!-- R&#45;&gt;S -->\n",
       "<g id=\"edge4\" class=\"edge\">\n",
       "<title>R&#45;&gt;S</title>\n",
       "<path fill=\"none\" stroke=\"black\" d=\"M262.23,-73.47C254.28,-77.05 244.22,-80.66 234.84,-83.39\"/>\n",
       "<polygon fill=\"black\" stroke=\"black\" points=\"234.18,-79.95 225.39,-85.85 235.94,-86.72 234.18,-79.95\"/>\n",
       "</g>\n",
       "</g>\n",
       "</svg>\n"
      ],
      "text/plain": [
       "Catalyst.Graph(\"G\", true, \"dot\", Catalyst.Statement[Catalyst.Node(\"<∅>\", OrderedCollections.OrderedDict{Symbol, Union{Catalyst.Html, String}}(:shape => \"circle\", :color => \"#6C9AC3\")), Catalyst.Node(\"<S>\", OrderedCollections.OrderedDict{Symbol, Union{Catalyst.Html, String}}(:shape => \"circle\", :color => \"#6C9AC3\")), Catalyst.Node(\"<S + I>\", OrderedCollections.OrderedDict{Symbol, Union{Catalyst.Html, String}}(:shape => \"circle\", :color => \"#6C9AC3\")), Catalyst.Node(\"<2I>\", OrderedCollections.OrderedDict{Symbol, Union{Catalyst.Html, String}}(:shape => \"circle\", :color => \"#6C9AC3\")), Catalyst.Node(\"<I>\", OrderedCollections.OrderedDict{Symbol, Union{Catalyst.Html, String}}(:shape => \"circle\", :color => \"#6C9AC3\")), Catalyst.Node(\"<R>\", OrderedCollections.OrderedDict{Symbol, Union{Catalyst.Html, String}}(:shape => \"circle\", :color => \"#6C9AC3\")), Catalyst.Edge(Catalyst.NodeID[Catalyst.NodeID(\"<∅>\", \"\", \"\"), Catalyst.NodeID(\"<S>\", \"\", \"\")], OrderedCollections.OrderedDict{Symbol, Union{Catalyst.Html, String}}()), Catalyst.Edge(Catalyst.NodeID[Catalyst.NodeID(\"<S + I>\", \"\", \"\"), Catalyst.NodeID(\"<2I>\", \"\", \"\")], OrderedCollections.OrderedDict{Symbol, Union{Catalyst.Html, String}}()), Catalyst.Edge(Catalyst.NodeID[Catalyst.NodeID(\"<I>\", \"\", \"\"), Catalyst.NodeID(\"<R>\", \"\", \"\")], OrderedCollections.OrderedDict{Symbol, Union{Catalyst.Html, String}}()), Catalyst.Edge(Catalyst.NodeID[Catalyst.NodeID(\"<R>\", \"\", \"\"), Catalyst.NodeID(\"<S>\", \"\", \"\")], OrderedCollections.OrderedDict{Symbol, Union{Catalyst.Html, String}}()), Catalyst.Edge(Catalyst.NodeID[Catalyst.NodeID(\"<S>\", \"\", \"\"), Catalyst.NodeID(\"<R>\", \"\", \"\")], OrderedCollections.OrderedDict{Symbol, Union{Catalyst.Html, String}}()), Catalyst.Edge(Catalyst.NodeID[Catalyst.NodeID(\"<S>\", \"\", \"\"), Catalyst.NodeID(\"<∅>\", \"\", \"\")], OrderedCollections.OrderedDict{Symbol, Union{Catalyst.Html, String}}()), Catalyst.Edge(Catalyst.NodeID[Catalyst.NodeID(\"<I>\", \"\", \"\"), Catalyst.NodeID(\"<∅>\", \"\", \"\")], OrderedCollections.OrderedDict{Symbol, Union{Catalyst.Html, String}}()), Catalyst.Edge(Catalyst.NodeID[Catalyst.NodeID(\"<R>\", \"\", \"\"), Catalyst.NodeID(\"<∅>\", \"\", \"\")], OrderedCollections.OrderedDict{Symbol, Union{Catalyst.Html, String}}())], OrderedCollections.OrderedDict{Symbol, Union{Catalyst.Html, String}}(:rankdir => \"LR\"), OrderedCollections.OrderedDict{Symbol, Union{Catalyst.Html, String}}(:shape => \"plain\", :style => \"filled\", :color => \"white\"), OrderedCollections.OrderedDict{Symbol, Union{Catalyst.Html, String}}(:splines => \"splines\"))"
      ]
     },
     "execution_count": 4,
     "metadata": {},
     "output_type": "execute_result"
    }
   ],
   "source": [
    "cg=complexgraph(rn)"
   ]
  },
  {
   "cell_type": "code",
   "execution_count": 13,
   "id": "87af18b6-4978-481d-9a82-e420bb9a2410",
   "metadata": {},
   "outputs": [
    {
     "data": {
      "text/plain": [
       "3×6 Matrix{Int64}:\n",
       " 0  1  1  0  0  0\n",
       " 0  0  1  2  1  0\n",
       " 0  0  0  0  0  1"
      ]
     },
     "execution_count": 13,
     "metadata": {},
     "output_type": "execute_result"
    }
   ],
   "source": [
    "D=incidencemat(rn)\n",
    "Z=complexstoichmat(rn)"
   ]
  },
  {
   "cell_type": "code",
   "execution_count": 20,
   "id": "616c6b43-29fe-4836-92d3-5ac5e8e9c13c",
   "metadata": {},
   "outputs": [
    {
     "data": {
      "text/plain": [
       "3×8 Matrix{Int64}:\n",
       " -1   1   0  -1   1  1  0  0\n",
       "  0  -1   1   0   0  0  1  0\n",
       "  0   0  -1   1  -1  0  0  1"
      ]
     },
     "execution_count": 20,
     "metadata": {},
     "output_type": "execute_result"
    }
   ],
   "source": [
    "L=-Z*D"
   ]
  },
  {
   "cell_type": "code",
   "execution_count": 4,
   "id": "18ec6082-2860-496b-bd21-22e27b1b1a8c",
   "metadata": {},
   "outputs": [
    {
     "data": {
      "text/latex": [
       "$$ \\begin{align}\n",
       "0 &= k1 + k4 R\\left( t \\right) - k5 S\\left( t \\right) - k6 S\\left( t \\right) - k2 S\\left( t \\right) I\\left( t \\right) \\\\\n",
       "0 &=  - k3 I\\left( t \\right) - k7 I\\left( t \\right) + k2 S\\left( t \\right) I\\left( t \\right) \\\\\n",
       "0 &= k3 I\\left( t \\right) - k4 R\\left( t \\right) + k5 S\\left( t \\right) - k8 R\\left( t \\right)\n",
       "\\end{align}\n",
       " $$"
      ],
      "text/plain": [
       "\u001b[0m\u001b[1mModel ##ReactionSystem#236 with 3 \u001b[22m\u001b[0m\u001b[1mequations\u001b[22m\n",
       "\u001b[0m\u001b[1mUnknowns (3):\u001b[22m\n",
       "  S(t)\n",
       "  I(t)\n",
       "  R(t)\n",
       "\u001b[0m\u001b[1mParameters (8):\u001b[22m\n",
       "  k1\n",
       "  k2\n",
       "  k3\n",
       "  k4\n",
       "  k5\n",
       "  k6\n",
       "⋮"
      ]
     },
     "execution_count": 4,
     "metadata": {},
     "output_type": "execute_result"
    }
   ],
   "source": [
    "nsys"
   ]
  },
  {
   "cell_type": "code",
   "execution_count": 5,
   "id": "4a575280-fa77-4a8d-8285-da6918bbafb3",
   "metadata": {},
   "outputs": [
    {
     "ename": "LoadError",
     "evalue": "KeyError: key S not found",
     "output_type": "error",
     "traceback": [
      "KeyError: key S not found",
      "",
      "Stacktrace:",
      "  [1] getindex",
      "    @ ./iddict.jl:98 [inlined]",
      "  [2] linearity_1",
      "    @ ~/.julia/packages/Symbolics/rPOcC/src/linearity.jl:57 [inlined]",
      "  [3] mark_vars(expr::SymbolicUtils.BasicSymbolic{Real}, vars::OrderedCollections.OrderedSet{Vector{SymbolicUtils.BasicSymbolic{Real}}})",
      "    @ Symbolics ~/.julia/packages/Symbolics/rPOcC/src/semipoly.jl:208",
      "  [4] (::Base.Fix2{typeof(Symbolics.mark_vars), OrderedCollections.OrderedSet{Vector{SymbolicUtils.BasicSymbolic{Real}}}})(y::SymbolicUtils.BasicSymbolic{Real})",
      "    @ Base ./operators.jl:1144",
      "  [5] iterate",
      "    @ ./generator.jl:48 [inlined]",
      "  [6] collect_to!(dest::Vector{Symbolics.SemiMonomial}, itr::Base.Generator{Vector{Any}, Base.Fix2{typeof(Symbolics.mark_vars), OrderedCollections.OrderedSet{Vector{SymbolicUtils.BasicSymbolic{Real}}}}}, offs::Int64, st::Int64)",
      "    @ Base ./array.jl:838",
      "  [7] collect_to_with_first!",
      "    @ ./array.jl:816 [inlined]",
      "  [8] _collect(c::Vector{Any}, itr::Base.Generator{Vector{Any}, Base.Fix2{typeof(Symbolics.mark_vars), OrderedCollections.OrderedSet{Vector{SymbolicUtils.BasicSymbolic{Real}}}}}, ::Base.EltypeUnknown, isz::Base.HasShape{1})",
      "    @ Base ./array.jl:810",
      "  [9] collect_similar",
      "    @ ./array.jl:709 [inlined]",
      " [10] map",
      "    @ ./abstractarray.jl:3371 [inlined]",
      " [11] mark_vars(expr::SymbolicUtils.BasicSymbolic{Real}, vars::OrderedCollections.OrderedSet{Vector{SymbolicUtils.BasicSymbolic{Real}}})",
      "    @ Symbolics ~/.julia/packages/Symbolics/rPOcC/src/semipoly.jl:204",
      " [12] (::Base.Fix2{typeof(Symbolics.mark_vars), OrderedCollections.OrderedSet{Vector{SymbolicUtils.BasicSymbolic{Real}}}})(y::SymbolicUtils.BasicSymbolic{Real})",
      "    @ Base ./operators.jl:1144",
      " [13] iterate",
      "    @ ./generator.jl:48 [inlined]",
      " [14] _collect(c::Vector{Any}, itr::Base.Generator{Vector{Any}, Base.Fix2{typeof(Symbolics.mark_vars), OrderedCollections.OrderedSet{Vector{SymbolicUtils.BasicSymbolic{Real}}}}}, ::Base.EltypeUnknown, isz::Base.HasShape{1})",
      "    @ Base ./array.jl:800",
      " [15] collect_similar",
      "    @ ./array.jl:709 [inlined]",
      " [16] map",
      "    @ ./abstractarray.jl:3371 [inlined]",
      " [17] mark_vars(expr::SymbolicUtils.BasicSymbolic{Real}, vars::OrderedCollections.OrderedSet{Vector{SymbolicUtils.BasicSymbolic{Real}}})",
      "    @ Symbolics ~/.julia/packages/Symbolics/rPOcC/src/semipoly.jl:204",
      " [18] mark_and_exponentiate(expr::SymbolicUtils.BasicSymbolic{Real}, vars::OrderedCollections.OrderedSet{Vector{SymbolicUtils.BasicSymbolic{Real}}})",
      "    @ Symbolics ~/.julia/packages/Symbolics/rPOcC/src/semipoly.jl:144",
      " [19] semipolyform_terms(expr::SymbolicUtils.BasicSymbolic{Real}, vars::OrderedCollections.OrderedSet{Vector{SymbolicUtils.BasicSymbolic{Real}}})",
      "    @ Symbolics ~/.julia/packages/Symbolics/rPOcC/src/semipoly.jl:160",
      " [20] semipolynomial_form(expr::SymbolicUtils.BasicSymbolic{Real}, vars::Vector{Vector{SymbolicUtils.BasicSymbolic{Real}}}, degree::Float64; consts::Bool)",
      "    @ Symbolics ~/.julia/packages/Symbolics/rPOcC/src/semipoly.jl:264",
      " [21] semipolynomial_form",
      "    @ ~/.julia/packages/Symbolics/rPOcC/src/semipoly.jl:257 [inlined]",
      " [22] polynomial_coeffs(expr::SymbolicUtils.BasicSymbolic{Real}, vars::Vector{Vector{SymbolicUtils.BasicSymbolic{Real}}})",
      "    @ Symbolics ~/.julia/packages/Symbolics/rPOcC/src/semipoly.jl:301",
      " [23] check_poly_inunivar(poly::SymbolicUtils.BasicSymbolic{Real}, var::Vector{SymbolicUtils.BasicSymbolic{Real}})",
      "    @ Symbolics ~/.julia/packages/Symbolics/rPOcC/src/solver/solve_helpers.jl:103",
      " [24] symbolic_solve(expr::Vector{Equation}, x::Vector{SymbolicUtils.BasicSymbolic{Real}}; dropmultiplicity::Bool, warns::Bool)",
      "    @ Symbolics ~/.julia/packages/Symbolics/rPOcC/src/solver/main.jl:168",
      " [25] symbolic_solve(expr::Vector{Equation}, x::Vector{SymbolicUtils.BasicSymbolic{Real}})",
      "    @ Symbolics ~/.julia/packages/Symbolics/rPOcC/src/solver/main.jl:145",
      " [26] top-level scope",
      "    @ In[5]:1"
     ]
    }
   ],
   "source": [
    "symbolic_solve(equations(nsys), unknowns(nsys))"
   ]
  },
  {
   "cell_type": "code",
   "execution_count": 19,
   "id": "3d43678d-41f5-4af7-8c52-0e7db932321d",
   "metadata": {},
   "outputs": [
    {
     "data": {
      "text/plain": [
       "(::NonlinearFunction{true, SciMLBase.FullSpecialize, ModelingToolkit.var\"#f#672\"{RuntimeGeneratedFunctions.RuntimeGeneratedFunction{(:ˍ₋arg1, :ˍ₋arg2), ModelingToolkit.var\"#_RGF_ModTag\", ModelingToolkit.var\"#_RGF_ModTag\", (0x9096ae7c, 0x53e8c586, 0x7f8071b2, 0x226cf4c9, 0x0412c4b6), Nothing}, RuntimeGeneratedFunctions.RuntimeGeneratedFunction{(:ˍ₋out, :ˍ₋arg1, :ˍ₋arg2), ModelingToolkit.var\"#_RGF_ModTag\", ModelingToolkit.var\"#_RGF_ModTag\", (0x4c745239, 0x3e209432, 0xe0fd5884, 0x8c441734, 0x355cad70), Nothing}}, LinearAlgebra.UniformScaling{Bool}, Nothing, Nothing, Nothing, Nothing, Nothing, Nothing, Nothing, Nothing, Nothing, Nothing, ModelingToolkit.ObservedFunctionCache{NonlinearSystem}, Nothing, NonlinearSystem, Nothing}) (generic function with 1 method)"
      ]
     },
     "execution_count": 19,
     "metadata": {},
     "output_type": "execute_result"
    }
   ],
   "source": [
    "complete(nsys)\n",
    "NonlinearFunction(complete(nsys))"
   ]
  },
  {
   "cell_type": "code",
   "execution_count": 12,
   "id": "2bacce76-6ce9-41d4-a26c-b8aa25e14abd",
   "metadata": {},
   "outputs": [
    {
     "data": {
      "text/plain": [
       "3-element Vector{SymbolicUtils.BasicSymbolic{Real}}:\n",
       " S(t)\n",
       " I(t)\n",
       " R(t)"
      ]
     },
     "execution_count": 12,
     "metadata": {},
     "output_type": "execute_result"
    }
   ],
   "source": [
    "unknowns(nsys)"
   ]
  },
  {
   "cell_type": "code",
   "execution_count": null,
   "id": "1ddc96ee-adcd-4679-8a2a-6b92db3efe4b",
   "metadata": {},
   "outputs": [],
   "source": []
  }
 ],
 "metadata": {
  "kernelspec": {
   "display_name": "Julia 1.11.0",
   "language": "julia",
   "name": "julia-1.11"
  },
  "language_info": {
   "file_extension": ".jl",
   "mimetype": "application/julia",
   "name": "julia",
   "version": "1.11.0"
  }
 },
 "nbformat": 4,
 "nbformat_minor": 5
}
