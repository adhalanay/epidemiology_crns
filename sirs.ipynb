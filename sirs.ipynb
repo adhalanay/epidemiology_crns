{
 "cells": [
  {
   "cell_type": "code",
   "execution_count": 1,
   "id": "7e2e7dee-6d0d-4173-826b-7e05ad3f5bee",
   "metadata": {},
   "outputs": [
    {
     "name": "stdout",
     "output_type": "stream",
     "text": [
      "\n",
      "Welcome to Nemo version 0.45.7\n",
      "\n",
      "Nemo comes with absolutely no warranty whatsoever\n"
     ]
    }
   ],
   "source": [
    "using Catalyst\n",
    "using DifferentialEquations\n",
    "using WGLMakie\n",
    "using Latexify\n",
    "using Symbolics\n",
    "using Nemo\n",
    "using Graphs"
   ]
  },
  {
   "cell_type": "code",
   "execution_count": 2,
   "id": "58b47f3b-4159-4ccf-890a-2895ddfcf278",
   "metadata": {},
   "outputs": [
    {
     "data": {
      "text/latex": [
       "$$ \\begin{align*}\n",
       "\\require{mhchem} \n",
       "\\varnothing &\\xrightarrow{k1} \\mathrm{S} \\\\\n",
       "\\mathrm{S} + \\mathrm{I} &\\xrightarrow{k2} 2 \\mathrm{I} \\\\\n",
       "\\mathrm{I} &\\xrightarrow{k3} \\mathrm{R} \\\\\n",
       "\\mathrm{R} &\\xrightleftharpoons[k5]{k4} \\mathrm{S} \\\\\n",
       "\\mathrm{S} &\\xrightarrow{k6} \\varnothing \\\\\n",
       "\\mathrm{I} &\\xrightarrow{k7} \\varnothing \\\\\n",
       "\\mathrm{R} &\\xrightarrow{k8} \\varnothing  \n",
       " \\end{align*}\n",
       " $$"
      ],
      "text/plain": [
       "\u001b[0m\u001b[1mModel ##ReactionSystem#236\u001b[22m\n",
       "\u001b[0m\u001b[1mUnknowns (3):\u001b[22m\n",
       "  S(t)\n",
       "  I(t)\n",
       "  R(t)\n",
       "\u001b[0m\u001b[1mParameters (8):\u001b[22m\n",
       "  k1\n",
       "  k2\n",
       "  k3\n",
       "  k4\n",
       "  k5\n",
       "  k6\n",
       "⋮"
      ]
     },
     "execution_count": 2,
     "metadata": {},
     "output_type": "execute_result"
    }
   ],
   "source": [
    "rn = @reaction_network begin\n",
    "    k1, 0 --> S\n",
    "    k2, S+I --> 2I\n",
    "    k3, I --> R\n",
    "    k4, R --> S\n",
    "    k5, S --> R\n",
    "    k6, S --> 0\n",
    "    k7, I --> 0\n",
    "    k8, R --> 0\n",
    "end"
   ]
  },
  {
   "cell_type": "code",
   "execution_count": 3,
   "id": "391fa0b1-4706-484a-8ad5-817914fcf7f4",
   "metadata": {},
   "outputs": [
    {
     "data": {
      "text/latex": [
       "$$ \\begin{align}\n",
       "\\frac{\\mathrm{d} S\\left( t \\right)}{\\mathrm{d}t} &= k1 + k4 R\\left( t \\right) - k5 S\\left( t \\right) - k6 S\\left( t \\right) - k2 S\\left( t \\right) I\\left( t \\right) \\\\\n",
       "\\frac{\\mathrm{d} I\\left( t \\right)}{\\mathrm{d}t} &=  - k3 I\\left( t \\right) - k7 I\\left( t \\right) + k2 S\\left( t \\right) I\\left( t \\right) \\\\\n",
       "\\frac{\\mathrm{d} R\\left( t \\right)}{\\mathrm{d}t} &= k3 I\\left( t \\right) - k4 R\\left( t \\right) + k5 S\\left( t \\right) - k8 R\\left( t \\right)\n",
       "\\end{align}\n",
       " $$"
      ],
      "text/plain": [
       "\u001b[0m\u001b[1mModel ##ReactionSystem#236 with 3 \u001b[22m\u001b[0m\u001b[1mequations\u001b[22m\n",
       "\u001b[0m\u001b[1mUnknowns (3):\u001b[22m\n",
       "  S(t)\n",
       "  I(t)\n",
       "  R(t)\n",
       "\u001b[0m\u001b[1mParameters (8):\u001b[22m\n",
       "  k1\n",
       "  k2\n",
       "  k3\n",
       "  k4\n",
       "  k5\n",
       "  k6\n",
       "⋮"
      ]
     },
     "execution_count": 3,
     "metadata": {},
     "output_type": "execute_result"
    }
   ],
   "source": [
    "odesys=convert(ODESystem,rn) # the corresponding system of ODEs"
   ]
  },
  {
   "cell_type": "code",
   "execution_count": 5,
   "id": "9bcca06d-0abc-40e1-b1d2-8512156652aa",
   "metadata": {},
   "outputs": [
    {
     "data": {
      "text/plain": [
       "1"
      ]
     },
     "execution_count": 5,
     "metadata": {},
     "output_type": "execute_result"
    }
   ],
   "source": [
    "deficiency(rn)"
   ]
  },
  {
   "cell_type": "code",
   "execution_count": 3,
   "id": "448cd71e-735f-4813-842d-28b0ca693325",
   "metadata": {},
   "outputs": [
    {
     "data": {
      "text/latex": [
       "$$ \\begin{align}\n",
       "0 &= k1 + k4 R\\left( t \\right) - k5 S\\left( t \\right) - k6 S\\left( t \\right) - k2 S\\left( t \\right) I\\left( t \\right) \\\\\n",
       "0 &=  - k3 I\\left( t \\right) - k7 I\\left( t \\right) + k2 S\\left( t \\right) I\\left( t \\right) \\\\\n",
       "0 &= k3 I\\left( t \\right) - k4 R\\left( t \\right) + k5 S\\left( t \\right) - k8 R\\left( t \\right)\n",
       "\\end{align}\n",
       " $$"
      ],
      "text/plain": [
       "\u001b[0m\u001b[1mModel ##ReactionSystem#236 with 3 \u001b[22m\u001b[0m\u001b[1mequations\u001b[22m\n",
       "\u001b[0m\u001b[1mUnknowns (3):\u001b[22m\n",
       "  S(t)\n",
       "  I(t)\n",
       "  R(t)\n",
       "\u001b[0m\u001b[1mParameters (8):\u001b[22m\n",
       "  k1\n",
       "  k2\n",
       "  k3\n",
       "  k4\n",
       "  k5\n",
       "  k6\n",
       "⋮"
      ]
     },
     "execution_count": 3,
     "metadata": {},
     "output_type": "execute_result"
    }
   ],
   "source": [
    "nsys = convert(NonlinearSystem, rn)"
   ]
  },
  {
   "cell_type": "code",
   "execution_count": 6,
   "id": "ce1852c4-38d4-429a-afeb-195dd2c2729e",
   "metadata": {},
   "outputs": [
    {
     "data": {
      "image/svg+xml": [
       "<?xml version=\"1.0\" encoding=\"UTF-8\" standalone=\"no\"?>\r\n",
       "<!DOCTYPE svg PUBLIC \"-//W3C//DTD SVG 1.1//EN\"\r\n",
       " \"http://www.w3.org/Graphics/SVG/1.1/DTD/svg11.dtd\">\r\n",
       "<!-- Generated by graphviz version 8.0.5 (20230430.1635)\r\n",
       " -->\r\n",
       "<!-- Title: G Pages: 1 -->\r\n",
       "<svg width=\"290pt\" height=\"142pt\"\r\n",
       " viewBox=\"0.00 0.00 289.51 141.61\" xmlns=\"http://www.w3.org/2000/svg\" xmlns:xlink=\"http://www.w3.org/1999/xlink\">\r\n",
       "<g id=\"graph0\" class=\"graph\" transform=\"scale(1 1) rotate(0) translate(4 137.61)\">\r\n",
       "<title>G</title>\r\n",
       "<polygon fill=\"white\" stroke=\"none\" points=\"-4,4 -4,-137.61 285.51,-137.61 285.51,4 -4,4\"/>\r\n",
       "<!-- ∅ -->\r\n",
       "<g id=\"node1\" class=\"node\">\r\n",
       "<title>∅</title>\r\n",
       "<ellipse fill=\"#6c9ac3\" stroke=\"#6c9ac3\" cx=\"116.36\" cy=\"-33\" rx=\"21.15\" ry=\"21.15\"/>\r\n",
       "<text text-anchor=\"middle\" x=\"116.36\" y=\"-26.82\" font-family=\"Times New Roman,serif\" font-size=\"14.00\">∅</text>\r\n",
       "</g>\r\n",
       "<!-- S -->\r\n",
       "<g id=\"node2\" class=\"node\">\r\n",
       "<title>S</title>\r\n",
       "<ellipse fill=\"#6c9ac3\" stroke=\"#6c9ac3\" cx=\"191.51\" cy=\"-51\" rx=\"18\" ry=\"18\"/>\r\n",
       "<text text-anchor=\"middle\" x=\"191.51\" y=\"-45.58\" font-family=\"Times New Roman,serif\" font-size=\"14.00\">S</text>\r\n",
       "</g>\r\n",
       "<!-- ∅&#45;&gt;S -->\r\n",
       "<g id=\"edge1\" class=\"edge\">\r\n",
       "<title>∅&#45;&gt;S</title>\r\n",
       "<path fill=\"none\" stroke=\"black\" d=\"M137.74,-31.89C146.27,-33.29 156.28,-35.64 165.28,-38.34\"/>\r\n",
       "<polygon fill=\"black\" stroke=\"black\" points=\"163.98,-41.93 174.58,-41.76 166.19,-35.29 163.98,-41.93\"/>\r\n",
       "</g>\r\n",
       "<!-- S&#45;&gt;∅ -->\r\n",
       "<g id=\"edge6\" class=\"edge\">\r\n",
       "<title>S&#45;&gt;∅</title>\r\n",
       "<path fill=\"none\" stroke=\"black\" d=\"M173.47,-52.62C165.09,-51.45 154.78,-49.17 145.29,-46.45\"/>\r\n",
       "<polygon fill=\"black\" stroke=\"black\" points=\"146.66,-42.9 136.07,-43.24 144.56,-49.58 146.66,-42.9\"/>\r\n",
       "</g>\r\n",
       "<!-- R -->\r\n",
       "<g id=\"node6\" class=\"node\">\r\n",
       "<title>R</title>\r\n",
       "<ellipse fill=\"#6c9ac3\" stroke=\"#6c9ac3\" cx=\"263.51\" cy=\"-28\" rx=\"18\" ry=\"18\"/>\r\n",
       "<text text-anchor=\"middle\" x=\"263.51\" y=\"-22.57\" font-family=\"Times New Roman,serif\" font-size=\"14.00\">R</text>\r\n",
       "</g>\r\n",
       "<!-- S&#45;&gt;R -->\r\n",
       "<g id=\"edge5\" class=\"edge\">\r\n",
       "<title>S&#45;&gt;R</title>\r\n",
       "<path fill=\"none\" stroke=\"black\" d=\"M206.68,-40.8C214.74,-37.08 225.14,-33.31 234.76,-30.5\"/>\r\n",
       "<polygon fill=\"black\" stroke=\"black\" points=\"235.35,-33.7 244.14,-27.78 233.58,-26.93 235.35,-33.7\"/>\r\n",
       "</g>\r\n",
       "<!-- S + I -->\r\n",
       "<g id=\"node3\" class=\"node\">\r\n",
       "<title>S + I</title>\r\n",
       "<ellipse fill=\"#6c9ac3\" stroke=\"#6c9ac3\" cx=\"29.61\" cy=\"-104\" rx=\"29.61\" ry=\"29.61\"/>\r\n",
       "<text text-anchor=\"middle\" x=\"29.61\" y=\"-98.58\" font-family=\"Times New Roman,serif\" font-size=\"14.00\">S + I</text>\r\n",
       "</g>\r\n",
       "<!-- 2I -->\r\n",
       "<g id=\"node4\" class=\"node\">\r\n",
       "<title>2I</title>\r\n",
       "<ellipse fill=\"#6c9ac3\" stroke=\"#6c9ac3\" cx=\"116.36\" cy=\"-104\" rx=\"18.13\" ry=\"18.13\"/>\r\n",
       "<text text-anchor=\"middle\" x=\"116.36\" y=\"-98.58\" font-family=\"Times New Roman,serif\" font-size=\"14.00\">2I</text>\r\n",
       "</g>\r\n",
       "<!-- S + I&#45;&gt;2I -->\r\n",
       "<g id=\"edge2\" class=\"edge\">\r\n",
       "<title>S + I&#45;&gt;2I</title>\r\n",
       "<path fill=\"none\" stroke=\"black\" d=\"M59.3,-104C68.18,-104 77.96,-104 86.83,-104\"/>\r\n",
       "<polygon fill=\"black\" stroke=\"black\" points=\"86.82,-107.5 96.82,-104 86.82,-100.5 86.82,-107.5\"/>\r\n",
       "</g>\r\n",
       "<!-- I -->\r\n",
       "<g id=\"node5\" class=\"node\">\r\n",
       "<title>I</title>\r\n",
       "<ellipse fill=\"#6c9ac3\" stroke=\"#6c9ac3\" cx=\"29.61\" cy=\"-18\" rx=\"18\" ry=\"18\"/>\r\n",
       "<text text-anchor=\"middle\" x=\"29.61\" y=\"-12.57\" font-family=\"Times New Roman,serif\" font-size=\"14.00\">I</text>\r\n",
       "</g>\r\n",
       "<!-- I&#45;&gt;∅ -->\r\n",
       "<g id=\"edge7\" class=\"edge\">\r\n",
       "<title>I&#45;&gt;∅</title>\r\n",
       "<path fill=\"none\" stroke=\"black\" d=\"M47.76,-21.04C58.38,-22.92 72.33,-25.38 84.8,-27.59\"/>\r\n",
       "<polygon fill=\"black\" stroke=\"black\" points=\"83.8,-31.15 94.26,-29.44 85.02,-24.25 83.8,-31.15\"/>\r\n",
       "</g>\r\n",
       "<!-- I&#45;&gt;R -->\r\n",
       "<g id=\"edge3\" class=\"edge\">\r\n",
       "<title>I&#45;&gt;R</title>\r\n",
       "<path fill=\"none\" stroke=\"black\" d=\"M47.16,-13.06C60.1,-9.46 78.63,-4.9 95.21,-3 145.02,2.71 202.79,-10.31 235.76,-19.62\"/>\r\n",
       "<polygon fill=\"black\" stroke=\"black\" points=\"234.36,-23.15 244.94,-22.61 236.33,-16.44 234.36,-23.15\"/>\r\n",
       "</g>\r\n",
       "<!-- R&#45;&gt;∅ -->\r\n",
       "<g id=\"edge8\" class=\"edge\">\r\n",
       "<title>R&#45;&gt;∅</title>\r\n",
       "<path fill=\"none\" stroke=\"black\" d=\"M245.34,-26.38C234.98,-25.48 221.5,-24.45 209.51,-24 193.52,-23.4 189.46,-22.73 173.51,-24 165.26,-24.66 156.38,-25.85 148.18,-27.16\"/>\r\n",
       "<polygon fill=\"black\" stroke=\"black\" points=\"147.81,-23.84 138.54,-28.97 148.99,-30.74 147.81,-23.84\"/>\r\n",
       "</g>\r\n",
       "<!-- R&#45;&gt;S -->\r\n",
       "<g id=\"edge4\" class=\"edge\">\r\n",
       "<title>R&#45;&gt;S</title>\r\n",
       "<path fill=\"none\" stroke=\"black\" d=\"M248.23,-38.26C240.15,-41.97 229.77,-45.73 220.17,-48.53\"/>\r\n",
       "<polygon fill=\"black\" stroke=\"black\" points=\"219.61,-45.32 210.81,-51.23 221.37,-52.09 219.61,-45.32\"/>\r\n",
       "</g>\r\n",
       "</g>\r\n",
       "</svg>\r\n"
      ],
      "text/plain": [
       "Catalyst.Graph(\"G\", true, \"dot\", Catalyst.Statement[Catalyst.Node(\"<∅>\", OrderedCollections.OrderedDict{Symbol, Union{Catalyst.Html, String}}(:shape => \"circle\", :color => \"#6C9AC3\")), Catalyst.Node(\"<S>\", OrderedCollections.OrderedDict{Symbol, Union{Catalyst.Html, String}}(:shape => \"circle\", :color => \"#6C9AC3\")), Catalyst.Node(\"<S + I>\", OrderedCollections.OrderedDict{Symbol, Union{Catalyst.Html, String}}(:shape => \"circle\", :color => \"#6C9AC3\")), Catalyst.Node(\"<2I>\", OrderedCollections.OrderedDict{Symbol, Union{Catalyst.Html, String}}(:shape => \"circle\", :color => \"#6C9AC3\")), Catalyst.Node(\"<I>\", OrderedCollections.OrderedDict{Symbol, Union{Catalyst.Html, String}}(:shape => \"circle\", :color => \"#6C9AC3\")), Catalyst.Node(\"<R>\", OrderedCollections.OrderedDict{Symbol, Union{Catalyst.Html, String}}(:shape => \"circle\", :color => \"#6C9AC3\")), Catalyst.Edge(Catalyst.NodeID[Catalyst.NodeID(\"<∅>\", \"\", \"\"), Catalyst.NodeID(\"<S>\", \"\", \"\")], OrderedCollections.OrderedDict{Symbol, Union{Catalyst.Html, String}}()), Catalyst.Edge(Catalyst.NodeID[Catalyst.NodeID(\"<S + I>\", \"\", \"\"), Catalyst.NodeID(\"<2I>\", \"\", \"\")], OrderedCollections.OrderedDict{Symbol, Union{Catalyst.Html, String}}()), Catalyst.Edge(Catalyst.NodeID[Catalyst.NodeID(\"<I>\", \"\", \"\"), Catalyst.NodeID(\"<R>\", \"\", \"\")], OrderedCollections.OrderedDict{Symbol, Union{Catalyst.Html, String}}()), Catalyst.Edge(Catalyst.NodeID[Catalyst.NodeID(\"<R>\", \"\", \"\"), Catalyst.NodeID(\"<S>\", \"\", \"\")], OrderedCollections.OrderedDict{Symbol, Union{Catalyst.Html, String}}()), Catalyst.Edge(Catalyst.NodeID[Catalyst.NodeID(\"<S>\", \"\", \"\"), Catalyst.NodeID(\"<R>\", \"\", \"\")], OrderedCollections.OrderedDict{Symbol, Union{Catalyst.Html, String}}()), Catalyst.Edge(Catalyst.NodeID[Catalyst.NodeID(\"<S>\", \"\", \"\"), Catalyst.NodeID(\"<∅>\", \"\", \"\")], OrderedCollections.OrderedDict{Symbol, Union{Catalyst.Html, String}}()), Catalyst.Edge(Catalyst.NodeID[Catalyst.NodeID(\"<I>\", \"\", \"\"), Catalyst.NodeID(\"<∅>\", \"\", \"\")], OrderedCollections.OrderedDict{Symbol, Union{Catalyst.Html, String}}()), Catalyst.Edge(Catalyst.NodeID[Catalyst.NodeID(\"<R>\", \"\", \"\"), Catalyst.NodeID(\"<∅>\", \"\", \"\")], OrderedCollections.OrderedDict{Symbol, Union{Catalyst.Html, String}}())], OrderedCollections.OrderedDict{Symbol, Union{Catalyst.Html, String}}(:rankdir => \"LR\"), OrderedCollections.OrderedDict{Symbol, Union{Catalyst.Html, String}}(:shape => \"plain\", :style => \"filled\", :color => \"white\"), OrderedCollections.OrderedDict{Symbol, Union{Catalyst.Html, String}}(:splines => \"splines\"))"
      ]
     },
     "execution_count": 6,
     "metadata": {},
     "output_type": "execute_result"
    },
    {
     "name": "stderr",
     "output_type": "stream",
     "text": [
      "WARNING: both Symbolics and ModelingToolkit export \"infimum\"; uses of it in module Catalyst must be qualified\n",
      "WARNING: both Symbolics and ModelingToolkit export \"supremum\"; uses of it in module Catalyst must be qualified\n"
     ]
    }
   ],
   "source": [
    "cg=complexgraph(rn)"
   ]
  },
  {
   "cell_type": "code",
   "execution_count": 13,
   "id": "87af18b6-4978-481d-9a82-e420bb9a2410",
   "metadata": {},
   "outputs": [
    {
     "data": {
      "text/plain": [
       "3×6 Matrix{Int64}:\n",
       " 0  1  1  0  0  0\n",
       " 0  0  1  2  1  0\n",
       " 0  0  0  0  0  1"
      ]
     },
     "execution_count": 13,
     "metadata": {},
     "output_type": "execute_result"
    }
   ],
   "source": [
    "D=incidencemat(rn)\n",
    "Z=complexstoichmat(rn)"
   ]
  },
  {
   "cell_type": "code",
   "execution_count": 20,
   "id": "616c6b43-29fe-4836-92d3-5ac5e8e9c13c",
   "metadata": {},
   "outputs": [
    {
     "data": {
      "text/plain": [
       "3×8 Matrix{Int64}:\n",
       " -1   1   0  -1   1  1  0  0\n",
       "  0  -1   1   0   0  0  1  0\n",
       "  0   0  -1   1  -1  0  0  1"
      ]
     },
     "execution_count": 20,
     "metadata": {},
     "output_type": "execute_result"
    }
   ],
   "source": [
    "L=-Z*D"
   ]
  },
  {
   "cell_type": "code",
   "execution_count": 4,
   "id": "18ec6082-2860-496b-bd21-22e27b1b1a8c",
   "metadata": {},
   "outputs": [
    {
     "data": {
      "text/latex": [
       "$$ \\begin{align}\n",
       "0 &= k1 + k4 R\\left( t \\right) - k5 S\\left( t \\right) - k6 S\\left( t \\right) - k2 S\\left( t \\right) I\\left( t \\right) \\\\\n",
       "0 &=  - k3 I\\left( t \\right) - k7 I\\left( t \\right) + k2 S\\left( t \\right) I\\left( t \\right) \\\\\n",
       "0 &= k3 I\\left( t \\right) - k4 R\\left( t \\right) + k5 S\\left( t \\right) - k8 R\\left( t \\right)\n",
       "\\end{align}\n",
       " $$"
      ],
      "text/plain": [
       "\u001b[0m\u001b[1mModel ##ReactionSystem#236 with 3 \u001b[22m\u001b[0m\u001b[1mequations\u001b[22m\n",
       "\u001b[0m\u001b[1mUnknowns (3):\u001b[22m\n",
       "  S(t)\n",
       "  I(t)\n",
       "  R(t)\n",
       "\u001b[0m\u001b[1mParameters (8):\u001b[22m\n",
       "  k1\n",
       "  k2\n",
       "  k3\n",
       "  k4\n",
       "  k5\n",
       "  k6\n",
       "⋮"
      ]
     },
     "execution_count": 4,
     "metadata": {},
     "output_type": "execute_result"
    }
   ],
   "source": [
    "nsys"
   ]
  },
  {
   "cell_type": "code",
   "execution_count": 18,
   "id": "4a575280-fa77-4a8d-8285-da6918bbafb3",
   "metadata": {},
   "outputs": [
    {
     "ename": "LoadError",
     "evalue": "KeyError: key R not found",
     "output_type": "error",
     "traceback": [
      "KeyError: key R not found",
      "",
      "Stacktrace:",
      "  [1] getindex",
      "    @ ./iddict.jl:98 [inlined]",
      "  [2] linearity_1",
      "    @ ~/.julia/packages/Symbolics/rtkf9/src/linearity.jl:57 [inlined]",
      "  [3] mark_vars(expr::SymbolicUtils.BasicSymbolic{Real}, vars::OrderedCollections.OrderedSet{Vector{Num}})",
      "    @ Symbolics ~/.julia/packages/Symbolics/rtkf9/src/semipoly.jl:208",
      "  [4] (::Base.Fix2{typeof(Symbolics.mark_vars), OrderedCollections.OrderedSet{Vector{Num}}})(y::SymbolicUtils.BasicSymbolic{Real})",
      "    @ Base ./operators.jl:1144",
      "  [5] iterate",
      "    @ ./generator.jl:48 [inlined]",
      "  [6] collect_to!(dest::Vector{Symbolics.SemiMonomial}, itr::Base.Generator{Vector{Any}, Base.Fix2{typeof(Symbolics.mark_vars), OrderedCollections.OrderedSet{Vector{Num}}}}, offs::Int64, st::Int64)",
      "    @ Base ./array.jl:838",
      "  [7] collect_to_with_first!",
      "    @ ./array.jl:816 [inlined]",
      "  [8] _collect(c::Vector{Any}, itr::Base.Generator{Vector{Any}, Base.Fix2{typeof(Symbolics.mark_vars), OrderedCollections.OrderedSet{Vector{Num}}}}, ::Base.EltypeUnknown, isz::Base.HasShape{1})",
      "    @ Base ./array.jl:810",
      "  [9] collect_similar",
      "    @ ./array.jl:709 [inlined]",
      " [10] map",
      "    @ ./abstractarray.jl:3371 [inlined]",
      " [11] mark_vars(expr::SymbolicUtils.BasicSymbolic{Real}, vars::OrderedCollections.OrderedSet{Vector{Num}})",
      "    @ Symbolics ~/.julia/packages/Symbolics/rtkf9/src/semipoly.jl:204",
      " [12] mark_and_exponentiate(expr::SymbolicUtils.BasicSymbolic{Real}, vars::OrderedCollections.OrderedSet{Vector{Num}})",
      "    @ Symbolics ~/.julia/packages/Symbolics/rtkf9/src/semipoly.jl:144",
      " [13] semipolyform_terms(expr::SymbolicUtils.BasicSymbolic{Real}, vars::OrderedCollections.OrderedSet{Vector{Num}})",
      "    @ Symbolics ~/.julia/packages/Symbolics/rtkf9/src/semipoly.jl:160",
      " [14] semipolynomial_form(expr::SymbolicUtils.BasicSymbolic{Real}, vars::Vector{Vector{Num}}, degree::Float64; consts::Bool)",
      "    @ Symbolics ~/.julia/packages/Symbolics/rtkf9/src/semipoly.jl:264",
      " [15] semipolynomial_form",
      "    @ ~/.julia/packages/Symbolics/rtkf9/src/semipoly.jl:257 [inlined]",
      " [16] polynomial_coeffs(expr::SymbolicUtils.BasicSymbolic{Real}, vars::Vector{Vector{Num}})",
      "    @ Symbolics ~/.julia/packages/Symbolics/rtkf9/src/semipoly.jl:301",
      " [17] check_poly_inunivar(poly::Num, var::Vector{Num})",
      "    @ Symbolics ~/.julia/packages/Symbolics/rtkf9/src/solver/solve_helpers.jl:97",
      " [18] symbolic_solve(expr::Vector{Num}, x::Vector{Num}; dropmultiplicity::Bool, warns::Bool)",
      "    @ Symbolics ~/.julia/packages/Symbolics/rtkf9/src/solver/main.jl:168",
      " [19] symbolic_solve(expr::Vector{Num}, x::Vector{Num})",
      "    @ Symbolics ~/.julia/packages/Symbolics/rtkf9/src/solver/main.jl:145",
      " [20] top-level scope",
      "    @ In[18]:3"
     ]
    }
   ],
   "source": [
    "@variables t S(t) R(t)\n",
    "expr=[S+R-2,2*S-3*R-6]\n",
    "symbolic_solve(expr,[S,R])"
   ]
  },
  {
   "cell_type": "code",
   "execution_count": null,
   "id": "3d43678d-41f5-4af7-8c52-0e7db932321d",
   "metadata": {},
   "outputs": [],
   "source": []
  }
 ],
 "metadata": {
  "kernelspec": {
   "display_name": "Julia 1.11.0",
   "language": "julia",
   "name": "julia-1.11"
  },
  "language_info": {
   "file_extension": ".jl",
   "mimetype": "application/julia",
   "name": "julia",
   "version": "1.11.0"
  }
 },
 "nbformat": 4,
 "nbformat_minor": 5
}
