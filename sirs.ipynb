{
 "cells": [
  {
   "cell_type": "code",
   "execution_count": 3,
   "id": "7e2e7dee-6d0d-4173-826b-7e05ad3f5bee",
   "metadata": {},
   "outputs": [
    {
     "name": "stdout",
     "output_type": "stream",
     "text": [
      "\n",
      "Welcome to Nemo version 0.45.7\n",
      "\n",
      "Nemo comes with absolutely no warranty whatsoever\n",
      "  ___   ____   ____    _    ____\n",
      " / _ \\ / ___| / ___|  / \\  |  _ \\   |  Combining ANTIC, GAP, Polymake, Singular\n",
      "| | | |\\___ \\| |     / _ \\ | |_) |  |  Type \"?Oscar\" for more information\n",
      "| |_| | ___) | |___ / ___ \\|  _ <   |  Manual: https://docs.oscar-system.org\n",
      " \\___/ |____/ \\____/_/   \\_\\_| \\_\\  |  Version 1.1.1\n"
     ]
    }
   ],
   "source": [
    "using Catalyst\n",
    "using DifferentialEquations\n",
    "using WGLMakie\n",
    "using Latexify\n",
    "using Symbolics\n",
    "using Nemo\n",
    "using Oscar"
   ]
  },
  {
   "cell_type": "code",
   "execution_count": 6,
   "id": "58b47f3b-4159-4ccf-890a-2895ddfcf278",
   "metadata": {},
   "outputs": [
    {
     "data": {
      "text/latex": [
       "$$ \\begin{align*}\n",
       "\\require{mhchem} \n",
       "\\varnothing &\\xrightarrow{k1} \\mathrm{S} \\\\\n",
       "\\mathrm{S} + \\mathrm{I} &\\xrightarrow{k2} 2 \\mathrm{I} \\\\\n",
       "\\mathrm{I} &\\xrightarrow{k3} \\mathrm{R} \\\\\n",
       "\\mathrm{R} &\\xrightleftharpoons[k5]{k4} \\mathrm{S} \\\\\n",
       "\\mathrm{S} &\\xrightarrow{k6} \\varnothing \\\\\n",
       "\\mathrm{I} &\\xrightarrow{k7} \\varnothing \\\\\n",
       "\\mathrm{R} &\\xrightarrow{k8} \\varnothing  \n",
       " \\end{align*}\n",
       " $$"
      ],
      "text/plain": [
       "\u001b[0m\u001b[1mModel ##ReactionSystem#236\u001b[22m\n",
       "\u001b[0m\u001b[1mUnknowns (3):\u001b[22m\n",
       "  S(t)\n",
       "  I(t)\n",
       "  R(t)\n",
       "\u001b[0m\u001b[1mParameters (8):\u001b[22m\n",
       "  k1\n",
       "  k2\n",
       "  k3\n",
       "  k4\n",
       "  k5\n",
       "  k6\n",
       "⋮"
      ]
     },
     "execution_count": 6,
     "metadata": {},
     "output_type": "execute_result"
    }
   ],
   "source": [
    "rn = @reaction_network begin\n",
    "    k1, 0 --> S\n",
    "    k2, S+I --> 2I\n",
    "    k3, I --> R\n",
    "    k4, R --> S\n",
    "    k5, S --> R\n",
    "    k6, S --> 0\n",
    "    k7, I --> 0\n",
    "    k8, R --> 0\n",
    "end"
   ]
  },
  {
   "cell_type": "code",
   "execution_count": 7,
   "id": "391fa0b1-4706-484a-8ad5-817914fcf7f4",
   "metadata": {},
   "outputs": [
    {
     "data": {
      "text/latex": [
       "$$ \\begin{align}\n",
       "\\frac{\\mathrm{d} S\\left( t \\right)}{\\mathrm{d}t} &= k1 + k4 R\\left( t \\right) - k5 S\\left( t \\right) - k6 S\\left( t \\right) - k2 S\\left( t \\right) I\\left( t \\right) \\\\\n",
       "\\frac{\\mathrm{d} I\\left( t \\right)}{\\mathrm{d}t} &=  - k3 I\\left( t \\right) - k7 I\\left( t \\right) + k2 S\\left( t \\right) I\\left( t \\right) \\\\\n",
       "\\frac{\\mathrm{d} R\\left( t \\right)}{\\mathrm{d}t} &= k3 I\\left( t \\right) - k4 R\\left( t \\right) + k5 S\\left( t \\right) - k8 R\\left( t \\right)\n",
       "\\end{align}\n",
       " $$"
      ],
      "text/plain": [
       "\u001b[0m\u001b[1mModel ##ReactionSystem#236 with 3 \u001b[22m\u001b[0m\u001b[1mequations\u001b[22m\n",
       "\u001b[0m\u001b[1mUnknowns (3):\u001b[22m\n",
       "  S(t)\n",
       "  I(t)\n",
       "  R(t)\n",
       "\u001b[0m\u001b[1mParameters (8):\u001b[22m\n",
       "  k1\n",
       "  k2\n",
       "  k3\n",
       "  k4\n",
       "  k5\n",
       "  k6\n",
       "⋮"
      ]
     },
     "execution_count": 7,
     "metadata": {},
     "output_type": "execute_result"
    }
   ],
   "source": [
    "odesys=convert(ODESystem,rn) # the corresponding system of ODEs"
   ]
  },
  {
   "cell_type": "code",
   "execution_count": 13,
   "id": "87af18b6-4978-481d-9a82-e420bb9a2410",
   "metadata": {},
   "outputs": [
    {
     "data": {
      "text/plain": [
       "3×6 Matrix{Int64}:\n",
       " 0  1  1  0  0  0\n",
       " 0  0  1  2  1  0\n",
       " 0  0  0  0  0  1"
      ]
     },
     "execution_count": 13,
     "metadata": {},
     "output_type": "execute_result"
    }
   ],
   "source": [
    "D=incidencemat(rn)\n",
    "Z=complexstoichmat(rn)"
   ]
  },
  {
   "cell_type": "code",
   "execution_count": 20,
   "id": "616c6b43-29fe-4836-92d3-5ac5e8e9c13c",
   "metadata": {},
   "outputs": [
    {
     "data": {
      "text/plain": [
       "3×8 Matrix{Int64}:\n",
       " -1   1   0  -1   1  1  0  0\n",
       "  0  -1   1   0   0  0  1  0\n",
       "  0   0  -1   1  -1  0  0  1"
      ]
     },
     "execution_count": 20,
     "metadata": {},
     "output_type": "execute_result"
    }
   ],
   "source": [
    "L=-Z*D"
   ]
  },
  {
   "cell_type": "code",
   "execution_count": 9,
   "id": "1ddc96ee-adcd-4679-8a2a-6b92db3efe4b",
   "metadata": {},
   "outputs": [
    {
     "ename": "LoadError",
     "evalue": "MethodError: no method matching assemble_oderhs(::ReactionSystem{Catalyst.NetworkProperties{Int64, SymbolicUtils.BasicSymbolic{Real}}})\nThe function `assemble_oderhs` exists, but no method is defined for this combination of argument types.\n\n\u001b[0mClosest candidates are:\n\u001b[0m  assemble_oderhs(::Any, \u001b[91m::Any\u001b[39m; combinatoric_ratelaws, remove_conserved)\n\u001b[0m\u001b[90m   @\u001b[39m \u001b[35mCatalyst\u001b[39m \u001b[90m~/.julia/packages/Catalyst/48wH3/src/\u001b[39m\u001b[90m\u001b[4mreactionsystem_conversions.jl:49\u001b[24m\u001b[39m\n",
     "output_type": "error",
     "traceback": [
      "MethodError: no method matching assemble_oderhs(::ReactionSystem{Catalyst.NetworkProperties{Int64, SymbolicUtils.BasicSymbolic{Real}}})\nThe function `assemble_oderhs` exists, but no method is defined for this combination of argument types.\n\n\u001b[0mClosest candidates are:\n\u001b[0m  assemble_oderhs(::Any, \u001b[91m::Any\u001b[39m; combinatoric_ratelaws, remove_conserved)\n\u001b[0m\u001b[90m   @\u001b[39m \u001b[35mCatalyst\u001b[39m \u001b[90m~/.julia/packages/Catalyst/48wH3/src/\u001b[39m\u001b[90m\u001b[4mreactionsystem_conversions.jl:49\u001b[24m\u001b[39m\n",
      "",
      "Stacktrace:",
      " [1] top-level scope",
      "   @ In[9]:1"
     ]
    },
    {
     "name": "stderr",
     "output_type": "stream",
     "text": [
      "WARNING: both Symbolics and ModelingToolkit export \"infimum\"; uses of it in module Catalyst must be qualified\n",
      "WARNING: both Symbolics and ModelingToolkit export \"supremum\"; uses of it in module Catalyst must be qualified\n"
     ]
    }
   ],
   "source": [
    "Catalyst.assemble_oderhs(rn)"
   ]
  },
  {
   "cell_type": "code",
   "execution_count": null,
   "id": "2c503206-a93e-47e6-8980-d778d994eb42",
   "metadata": {},
   "outputs": [],
   "source": []
  }
 ],
 "metadata": {
  "kernelspec": {
   "display_name": "Julia 1.11.0",
   "language": "julia",
   "name": "julia-1.11"
  },
  "language_info": {
   "file_extension": ".jl",
   "mimetype": "application/julia",
   "name": "julia",
   "version": "1.11.0"
  }
 },
 "nbformat": 4,
 "nbformat_minor": 5
}
