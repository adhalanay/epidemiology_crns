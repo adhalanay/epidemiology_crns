{
 "cells": [
  {
   "cell_type": "code",
   "execution_count": null,
   "id": "8a5071a5-d845-4c50-8c5d-8d732cb1de43",
   "metadata": {},
   "outputs": [],
   "source": [
    "using Symbolics\n",
    "\n",
    "@variables t S(t) R(t)\n",
    "expr=[S+R-2,2*S-3*R-6]\n",
    "symbolic_solve(expr,[S,R])"
   ]
  },
  {
   "cell_type": "code",
   "execution_count": null,
   "id": "7531ef8e-80e9-4700-865e-023265f14e44",
   "metadata": {},
   "outputs": [],
   "source": []
  }
 ],
 "metadata": {
  "kernelspec": {
   "display_name": "Julia 1.11.0",
   "language": "julia",
   "name": "julia-1.11"
  },
  "language_info": {
   "file_extension": ".jl",
   "mimetype": "application/julia",
   "name": "julia",
   "version": "1.11.0"
  }
 },
 "nbformat": 4,
 "nbformat_minor": 5
}
