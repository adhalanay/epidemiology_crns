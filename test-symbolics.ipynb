{
 "cells": [
  {
   "cell_type": "code",
   "execution_count": 6,
   "id": "8a5071a5-d845-4c50-8c5d-8d732cb1de43",
   "metadata": {},
   "outputs": [
    {
     "ename": "LoadError",
     "evalue": "Sym S(t) is not callable. Use @syms S(t)(var1, var2,...) to create it as a callable.",
     "output_type": "error",
     "traceback": [
      "Sym S(t) is not callable. Use @syms S(t)(var1, var2,...) to create it as a callable.",
      "",
      "Stacktrace:",
      " [1] error(s::String)",
      "   @ Base ./error.jl:35",
      " [2] (::SymbolicUtils.BasicSymbolic{Real})(args::SymbolicUtils.BasicSymbolic{Real})",
      "   @ SymbolicUtils ~/.julia/packages/SymbolicUtils/jf8aQ/src/types.jl:920",
      " [3] (::Num)(args::Num)",
      "   @ Symbolics ~/.julia/packages/Symbolics/kErIg/src/num.jl:19",
      " [4] top-level scope",
      "   @ In[6]:5"
     ]
    }
   ],
   "source": [
    "using Symbolics\n",
    "\n",
    "@variables t S(t) R(t)\n",
    "expr=[S+R-2,2*S-3*R-6]\n",
    "map(s -> Symbolics.tosymbol(s; escape=false), (S(t), R(t)))\n",
    "#symbolic_solve(expr,[S,R])"
   ]
  },
  {
   "cell_type": "code",
   "execution_count": null,
   "id": "7531ef8e-80e9-4700-865e-023265f14e44",
   "metadata": {},
   "outputs": [],
   "source": []
  }
 ],
 "metadata": {
  "kernelspec": {
   "display_name": "Julia 1.11.1",
   "language": "julia",
   "name": "julia-1.11"
  },
  "language_info": {
   "file_extension": ".jl",
   "mimetype": "application/julia",
   "name": "julia",
   "version": "1.11.1"
  }
 },
 "nbformat": 4,
 "nbformat_minor": 5
}
