{
 "cells": [
  {
   "cell_type": "code",
   "execution_count": 1,
   "id": "3017d21b-4bb8-4a26-a50d-39ac7785424a",
   "metadata": {},
   "outputs": [
    {
     "name": "stdout",
     "output_type": "stream",
     "text": [
      "  ___   ____   ____    _    ____\n",
      " / _ \\ / ___| / ___|  / \\  |  _ \\   |  Combining ANTIC, GAP, Polymake, Singular\n",
      "| | | |\\___ \\| |     / _ \\ | |_) |  |  Type \"?Oscar\" for more information\n",
      "| |_| | ___) | |___ / ___ \\|  _ <   |  Manual: https://docs.oscar-system.org\n",
      " \\___/ |____/ \\____/_/   \\_\\_| \\_\\  |  Version 1.1.2\n"
     ]
    }
   ],
   "source": [
    "using Catalyst\n",
    "using Oscar\n",
    "using Symbolics"
   ]
  },
  {
   "cell_type": "code",
   "execution_count": 3,
   "id": "1ce25f0e-8bcb-4ab8-a87a-05d19f734788",
   "metadata": {},
   "outputs": [
    {
     "data": {
      "text/latex": [
       "$$ \\begin{align*}\n",
       "2 \\mathrm{A} &\\xrightleftharpoons[\\mathtt{k21}]{\\mathtt{k12}} \\mathrm{A} + \\mathrm{B} \\\\\n",
       "\\mathrm{A} + \\mathrm{B} &\\xrightleftharpoons[\\mathtt{k32}]{\\mathtt{k23}} 2 \\mathrm{B} \\\\\n",
       "2 \\mathrm{B} &\\xrightleftharpoons[\\mathtt{k31}]{\\mathtt{k13}} \\mathrm{A} + \\mathrm{B}  \n",
       " \\end{align*}\n",
       " $$"
      ],
      "text/plain": [
       "\u001b[0m\u001b[1mModel ##ReactionSystem#236\u001b[22m\n",
       "\u001b[0m\u001b[1mUnknowns (2):\u001b[22m\n",
       "  A(t)\n",
       "  B(t)\n",
       "\u001b[0m\u001b[1mParameters (6):\u001b[22m\n",
       "  k12\n",
       "  k21\n",
       "⋮"
      ]
     },
     "execution_count": 3,
     "metadata": {},
     "output_type": "execute_result"
    }
   ],
   "source": [
    "rn=@reaction_network begin\n",
    "    k12, A+A --> A+B\n",
    "    k21, A+B --> A+A\n",
    "    k23, A+B --> B+B\n",
    "    k32, B+B --> A+B\n",
    "    k13, B+B --> A+B\n",
    "    k31, A+B --> B+B\n",
    "end"
   ]
  },
  {
   "cell_type": "code",
   "execution_count": 4,
   "id": "7aac81a0-369b-433e-9496-25335ea60d4e",
   "metadata": {},
   "outputs": [
    {
     "data": {
      "text/plain": [
       "2-element Vector{Any}:\n",
       " -(1//2)*k12*(A(t)^2) + (1//2)*k13*(B(t)^2) + k21*B(t)*A(t) - k23*B(t)*A(t) - k31*B(t)*A(t) + (1//2)*k32*(B(t)^2)\n",
       " (1//2)*k12*(A(t)^2) - (1//2)*k13*(B(t)^2) - k21*B(t)*A(t) + k23*B(t)*A(t) + k31*B(t)*A(t) - (1//2)*k32*(B(t)^2)"
      ]
     },
     "execution_count": 4,
     "metadata": {},
     "output_type": "execute_result"
    }
   ],
   "source": [
    "in1=Catalyst.assemble_oderhs(rn,species(rn))"
   ]
  },
  {
   "cell_type": "code",
   "execution_count": 21,
   "id": "7dc5009b-0bc7-46b0-b577-9787fa181dfa",
   "metadata": {},
   "outputs": [
    {
     "data": {
      "text/plain": [
       "2-element Vector{SymbolicUtils.BasicSymbolic{Real}}:\n",
       " -(1//2)*k12*(A(t)^2) + (1//2)*k13*(B(t)^2) + k21*B(t)*A(t) - k23*B(t)*A(t) - k31*B(t)*A(t) + (1//2)*k32*(B(t)^2)\n",
       " (1//2)*k12*(A(t)^2) - (1//2)*k13*(B(t)^2) - k21*B(t)*A(t) + k23*B(t)*A(t) + k31*B(t)*A(t) - (1//2)*k32*(B(t)^2)"
      ]
     },
     "execution_count": 21,
     "metadata": {},
     "output_type": "execute_result"
    }
   ],
   "source": [
    "f1,f2=Symbolics.build_function(in1,species(rn),parameters(rn))\n",
    "f=eval(f1)\n",
    "f(species(rn),parameters(rn))"
   ]
  },
  {
   "cell_type": "code",
   "execution_count": 23,
   "id": "28822cc7-6c55-4d3a-b57f-2c32571e55ba",
   "metadata": {},
   "outputs": [
    {
     "ename": "LoadError",
     "evalue": "MethodError: no method matching (::var\"#31#32\")(::QQMPolyRingElem, ::QQMPolyRingElem, ::QQMPolyRingElem, ::QQMPolyRingElem, ::QQMPolyRingElem, ::QQMPolyRingElem)\nThe function `#31` exists, but no method is defined for this combination of argument types.\n\n\u001b[0mClosest candidates are:\n\u001b[0m  (::var\"#31#32\")(::Any, ::Any)\n\u001b[0m\u001b[90m   @\u001b[39m \u001b[35mMain\u001b[39m \u001b[90m~/.julia/packages/SymbolicUtils/jf8aQ/src/\u001b[39m\u001b[90m\u001b[4mcode.jl:385\u001b[24m\u001b[39m\n",
     "output_type": "error",
     "traceback": [
      "MethodError: no method matching (::var\"#31#32\")(::QQMPolyRingElem, ::QQMPolyRingElem, ::QQMPolyRingElem, ::QQMPolyRingElem, ::QQMPolyRingElem, ::QQMPolyRingElem)\nThe function `#31` exists, but no method is defined for this combination of argument types.\n\n\u001b[0mClosest candidates are:\n\u001b[0m  (::var\"#31#32\")(::Any, ::Any)\n\u001b[0m\u001b[90m   @\u001b[39m \u001b[35mMain\u001b[39m \u001b[90m~/.julia/packages/SymbolicUtils/jf8aQ/src/\u001b[39m\u001b[90m\u001b[4mcode.jl:385\u001b[24m\u001b[39m\n",
      "",
      "Stacktrace:",
      " [1] top-level scope",
      "   @ In[23]:4"
     ]
    }
   ],
   "source": [
    "R1,vars1=polynomial_ring(QQ,map(p -> Symbolics.tosymbol(p;escape=false),parameters(rn)))\n",
    "K1=fraction_field(R1)\n",
    "R2,vars2=polynomial_ring(K1,map(s -> Symbolics.tosymbol(s;escape=false),species(rn)))\n",
    "f(vars1...)"
   ]
  },
  {
   "cell_type": "code",
   "execution_count": 17,
   "id": "1330e849-dff6-4c6d-9b61-965a874ecdc3",
   "metadata": {},
   "outputs": [
    {
     "data": {
      "text/plain": [
       "2-element Vector{Symbol}:\n",
       " Symbol(\"+((-1//2)*k12*(A(t)^2), (1//2)*k13*(B(t)^2), k21*B(t)*A(t), -k23*B(t)*A(t), -k31*B(t)*A(t), (1//2)*k32*(B(t)^2))\")\n",
       " Symbol(\"+((1//2)*k12*(A(t)^2), (-1//2)*k13*(B(t)^2), -k21*B(t)*A(t), k23*B(t)*A(t), k31*B(t)*A(t), (-1//2)*k32*(B(t)^2))\")"
      ]
     },
     "execution_count": 17,
     "metadata": {},
     "output_type": "execute_result"
    }
   ],
   "source": [
    "polss=map(p->Symbolics.tosymbol(p;escape=true),pols)"
   ]
  },
  {
   "cell_type": "code",
   "execution_count": 19,
   "id": "6be16e2e-ea85-48b5-88d6-dba920e87b7e",
   "metadata": {},
   "outputs": [
    {
     "data": {
      "text/plain": [
       "SymbolicUtils.BasicSymbolic{Real}"
      ]
     },
     "execution_count": 19,
     "metadata": {},
     "output_type": "execute_result"
    }
   ],
   "source": [
    "typeof(pols[1])"
   ]
  },
  {
   "cell_type": "code",
   "execution_count": 26,
   "id": "7e6495e0-93fc-4a74-ac76-454f81212b5f",
   "metadata": {},
   "outputs": [
    {
     "ename": "LoadError",
     "evalue": "MethodError: no method matching (::var\"#31#32\")(::QQMPolyRingElem, ::QQMPolyRingElem, ::QQMPolyRingElem, ::QQMPolyRingElem, ::QQMPolyRingElem, ::QQMPolyRingElem, ::QQMPolyRingElem, ::QQMPolyRingElem)\nThe function `#31` exists, but no method is defined for this combination of argument types.\n\n\u001b[0mClosest candidates are:\n\u001b[0m  (::var\"#31#32\")(::Any, ::Any)\n\u001b[0m\u001b[90m   @\u001b[39m \u001b[35mMain\u001b[39m \u001b[90m~/.julia/packages/SymbolicUtils/jf8aQ/src/\u001b[39m\u001b[90m\u001b[4mcode.jl:385\u001b[24m\u001b[39m\n",
     "output_type": "error",
     "traceback": [
      "MethodError: no method matching (::var\"#31#32\")(::QQMPolyRingElem, ::QQMPolyRingElem, ::QQMPolyRingElem, ::QQMPolyRingElem, ::QQMPolyRingElem, ::QQMPolyRingElem, ::QQMPolyRingElem, ::QQMPolyRingElem)\nThe function `#31` exists, but no method is defined for this combination of argument types.\n\n\u001b[0mClosest candidates are:\n\u001b[0m  (::var\"#31#32\")(::Any, ::Any)\n\u001b[0m\u001b[90m   @\u001b[39m \u001b[35mMain\u001b[39m \u001b[90m~/.julia/packages/SymbolicUtils/jf8aQ/src/\u001b[39m\u001b[90m\u001b[4mcode.jl:385\u001b[24m\u001b[39m\n",
      "",
      "Stacktrace:",
      " [1] top-level scope",
      "   @ In[26]:5"
     ]
    }
   ],
   "source": [
    "R, polyvars = polynomial_ring(QQ, vcat(\n",
    "    map(s -> Symbolics.tosymbol(s; escape=false), species(rn)),\n",
    "    map(p -> Symbolics.tosymbol(p; escape=false), parameters(rn))\n",
    "))\n",
    "f(polyvars...)"
   ]
  },
  {
   "cell_type": "code",
   "execution_count": null,
   "id": "14b9728a-1277-457c-a03c-174e4882b089",
   "metadata": {},
   "outputs": [],
   "source": []
  }
 ],
 "metadata": {
  "kernelspec": {
   "display_name": "Julia 1.11.1",
   "language": "julia",
   "name": "julia-1.11"
  },
  "language_info": {
   "file_extension": ".jl",
   "mimetype": "application/julia",
   "name": "julia",
   "version": "1.11.1"
  }
 },
 "nbformat": 4,
 "nbformat_minor": 5
}
