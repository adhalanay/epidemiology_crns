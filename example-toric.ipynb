{
 "cells": [
  {
   "cell_type": "code",
   "execution_count": 2,
   "id": "3017d21b-4bb8-4a26-a50d-39ac7785424a",
   "metadata": {},
   "outputs": [
    {
     "name": "stdout",
     "output_type": "stream",
     "text": [
      "  ___   ____   ____    _    ____\n",
      " / _ \\ / ___| / ___|  / \\  |  _ \\   |  Combining ANTIC, GAP, Polymake, Singular\n",
      "| | | |\\___ \\| |     / _ \\ | |_) |  |  Type \"?Oscar\" for more information\n",
      "| |_| | ___) | |___ / ___ \\|  _ <   |  Manual: https://docs.oscar-system.org\n",
      " \\___/ |____/ \\____/_/   \\_\\_| \\_\\  |  Version 1.1.1\n"
     ]
    }
   ],
   "source": [
    "using Catalyst\n",
    "using Oscar\n",
    "using Symbolics"
   ]
  },
  {
   "cell_type": "code",
   "execution_count": 3,
   "id": "1ce25f0e-8bcb-4ab8-a87a-05d19f734788",
   "metadata": {},
   "outputs": [
    {
     "data": {
      "text/latex": [
       "$$ \\begin{align*}\n",
       "\\require{mhchem} \n",
       "2 \\mathrm{A} &\\xrightleftharpoons[k21]{k12} \\mathrm{A} + \\mathrm{B} \\\\\n",
       "\\mathrm{A} + \\mathrm{B} &\\xrightleftharpoons[k32]{k23} 2 \\mathrm{B} \\\\\n",
       "2 \\mathrm{B} &\\xrightleftharpoons[k31]{k13} \\mathrm{A} + \\mathrm{B}  \n",
       " \\end{align*}\n",
       " $$"
      ],
      "text/plain": [
       "\u001b[0m\u001b[1mModel ##ReactionSystem#236\u001b[22m\n",
       "\u001b[0m\u001b[1mUnknowns (2):\u001b[22m\n",
       "  A(t)\n",
       "  B(t)\n",
       "\u001b[0m\u001b[1mParameters (6):\u001b[22m\n",
       "  k12\n",
       "  k21\n",
       "  k23\n",
       "  k32\n",
       "  k13\n",
       "  k31"
      ]
     },
     "execution_count": 3,
     "metadata": {},
     "output_type": "execute_result"
    }
   ],
   "source": [
    "rn=@reaction_network begin\n",
    "    k12, A+A --> A+B\n",
    "    k21, A+B --> A+A\n",
    "    k23, A+B --> B+B\n",
    "    k32, B+B --> A+B\n",
    "    k13, B+B --> A+B\n",
    "    k31, A+B --> B+B\n",
    "end"
   ]
  },
  {
   "cell_type": "code",
   "execution_count": 6,
   "id": "7aac81a0-369b-433e-9496-25335ea60d4e",
   "metadata": {},
   "outputs": [
    {
     "data": {
      "text/plain": [
       "2-element Vector{Any}:\n",
       " -(1//2)*k12*(A(t)^2) + (1//2)*k13*(B(t)^2) + k21*B(t)*A(t) - k23*B(t)*A(t) - k31*B(t)*A(t) + (1//2)*k32*(B(t)^2)\n",
       " (1//2)*k12*(A(t)^2) - (1//2)*k13*(B(t)^2) - k21*B(t)*A(t) + k23*B(t)*A(t) + k31*B(t)*A(t) - (1//2)*k32*(B(t)^2)"
      ]
     },
     "execution_count": 6,
     "metadata": {},
     "output_type": "execute_result"
    }
   ],
   "source": [
    "in=Catalyst.assemble_oderhs(rn,species(rn))"
   ]
  },
  {
   "cell_type": "code",
   "execution_count": null,
   "id": "7dc5009b-0bc7-46b0-b577-9787fa181dfa",
   "metadata": {},
   "outputs": [],
   "source": []
  }
 ],
 "metadata": {
  "kernelspec": {
   "display_name": "Julia 1.11.0",
   "language": "julia",
   "name": "julia-1.11"
  },
  "language_info": {
   "file_extension": ".jl",
   "mimetype": "application/julia",
   "name": "julia",
   "version": "1.11.0"
  }
 },
 "nbformat": 4,
 "nbformat_minor": 5
}
